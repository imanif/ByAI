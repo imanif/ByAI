{
 "cells": [
  {
   "cell_type": "markdown",
   "metadata": {},
   "source": [
    "# By AI: Authorship, Literature and Large Language Models\n",
    "## Poetry in the Age of Mechanical Reproduction\n",
    "\n",
    "*Undergraduate Honors Thesis for the Department of Literatures in English at Cornell University*"
   ]
  },
  {
   "cell_type": "markdown",
   "metadata": {
    "tags": []
   },
   "source": [
    "#### Authors\n",
    "* Imani Finkley\n",
    "---\n",
    "#### Advisors\n",
    "* Dr. Jane Juffer, Literatures in English\n",
    "* Dr. Matthew Wilkens, Information Science\n"
   ]
  },
  {
   "cell_type": "markdown",
   "metadata": {},
   "source": [
    "## Background\n",
    "\n",
    "This notebook contains the computational methods and data analysis used in Section 2.2 of \"By AI.\" To learn more or read the entire thesis, click https://github.com/imanif/ByAI"
   ]
  },
  {
   "cell_type": "markdown",
   "metadata": {},
   "source": [
    "## Dataset"
   ]
  },
  {
   "cell_type": "markdown",
   "metadata": {},
   "source": [
    "On December 6, 2023, I generated 50 poems with [ChatGPT](https://chat.openai.com/) using my personal account. I used the prompt: ```Write a poem.``` Recognizing that the model might be influenced through reinforcement learning if I were to make constant generations, my mitigation method was to constantly refresh the prompting for each request.\n",
    "\n",
    "To gather a dataset of 50 human-authored poems, I used the [Poetry Foundation Poems Dataset](https://www.kaggle.com/datasets/tgdivy/poetry-foundation-poems) from Kaggle [3]. From the dataset of roughly 1400 poems, whose authors ranged from William Shakespeare to Ezra Pound, I then randomly selected 50 poems within the length range of the ChatGPT poems (66-141 tokens, excluding stopwords and punctuation). I also removed duplicate poems and authors to ensure a diverse set of styles. We will refer to this filtered, random subset of the Poetry Foundation Poems Dataset as the 'PF Dataset.'  "
   ]
  },
  {
   "cell_type": "code",
   "execution_count": 513,
   "metadata": {
    "collapsed": true,
    "jupyter": {
     "outputs_hidden": true,
     "source_hidden": true
    },
    "tags": []
   },
   "outputs": [
    {
     "name": "stderr",
     "output_type": "stream",
     "text": [
      "[nltk_data] Downloading package cmudict to /Users/imani/nltk_data...\n",
      "[nltk_data]   Package cmudict is already up-to-date!\n"
     ]
    }
   ],
   "source": [
    "import matplotlib.pyplot as plt\n",
    "import nltk\n",
    "import os\n",
    "import pandas as pd\n",
    "import random\n",
    "import torch\n",
    "import seaborn as sns\n",
    "import warnings\n",
    "\n",
    "nltk.download('cmudict')\n",
    "\n",
    "from collections import defaultdict\n",
    "from nltk.corpus.reader import cmudict\n",
    "from sklearn.metrics import classification_report, f1_score\n",
    "from sklearn.model_selection import train_test_split, StratifiedKFold\n",
    "from transformers import DistilBertTokenizerFast, DistilBertForSequenceClassification\n",
    "from transformers import Trainer, TrainingArguments"
   ]
  },
  {
   "cell_type": "code",
   "execution_count": 98,
   "metadata": {
    "jupyter": {
     "source_hidden": true
    },
    "tags": []
   },
   "outputs": [],
   "source": [
    "# Create a dictionary of the word frequency of a poem\n",
    "def wordcount_dict(poem, stopwords = nltk.corpus.stopwords.words('english')):\n",
    "    tokens = nltk.word_tokenize(poem)\n",
    "    freqDict = nltk.FreqDist(tokens)\n",
    "    for token in freqDict.copy():\n",
    "        if token.lower() in stopwords:\n",
    "            del freqDict[token]\n",
    "        elif not token.isalpha():\n",
    "            del freqDict[token]\n",
    "    countDict = { \"Total tokens\" : len(freqDict)}\n",
    "    countDict.update(freqDict)\n",
    "    return countDict\n",
    "# Get total token counts dataset\n",
    "def countDict(data, initDict = {}):\n",
    "    for poem in data:\n",
    "        d = wordcount_dict(poem).copy()\n",
    "        for token in d:\n",
    "            if len(initDict) > 0:\n",
    "                if token in initDict:\n",
    "                    initDict[token] += d[token]\n",
    "                else:\n",
    "                    initDict[token] = d[token]\n",
    "            else: initDict = d\n",
    "    return initDict\n",
    "# Get min, max, and average length of poems in dataset\n",
    "def poem_stats(data):\n",
    "    stats = {}\n",
    "    for poem in data:\n",
    "        d = wordcount_dict(poem).copy()\n",
    "        n = d[\"Total tokens\"]\n",
    "        if len(stats) > 0:\n",
    "            if n < stats[\"Min\"]:\n",
    "                stats[\"Min\"] = n\n",
    "            if stats[\"Max\"] < n:\n",
    "                stats[\"Max\"] = n\n",
    "            stats[\"Avg\"] = (stats[\"Avg\"] + n)/2\n",
    "            stats[\"Total\"] += n\n",
    "        else:\n",
    "            stats[\"Min\"] = n\n",
    "            stats[\"Max\"] = n\n",
    "            stats[\"Avg\"] = n\n",
    "            stats[\"Total\"] = n\n",
    "    return stats"
   ]
  },
  {
   "cell_type": "markdown",
   "metadata": {},
   "source": [
    "#### At a Glance: The Poetry Foundation Poems\n",
    "\n",
    "The Poetry Foundation Poems dataset consisted of total 13,854 poems from various authors. The dataset was labeled: unnamed tag, title, poem, poet, and tags of various themes and topics. The statistics of the words in the dataset is shown in one of the following tables."
   ]
  },
  {
   "cell_type": "code",
   "execution_count": 477,
   "metadata": {
    "jupyter": {
     "source_hidden": true
    },
    "tags": []
   },
   "outputs": [
    {
     "name": "stdout",
     "output_type": "stream",
     "text": [
      "Total poems in Poetry Foundation Poems Dataset: 13854\n",
      "Total poems in Poetry Foundation Poems Dataset with unique title/author: 3082\n",
      "Total poems in Poetry Foundation Poems Dataset of similar length: 1119\n",
      "Number of poems in PF Dataset: 50\n",
      "\n",
      "Snippet of PF Dataset\n"
     ]
    },
    {
     "data": {
      "text/html": [
       "<div>\n",
       "<style scoped>\n",
       "    .dataframe tbody tr th:only-of-type {\n",
       "        vertical-align: middle;\n",
       "    }\n",
       "\n",
       "    .dataframe tbody tr th {\n",
       "        vertical-align: top;\n",
       "    }\n",
       "\n",
       "    .dataframe thead th {\n",
       "        text-align: right;\n",
       "    }\n",
       "</style>\n",
       "<table border=\"1\" class=\"dataframe\">\n",
       "  <thead>\n",
       "    <tr style=\"text-align: right;\">\n",
       "      <th></th>\n",
       "      <th>Unnamed: 0</th>\n",
       "      <th>Title</th>\n",
       "      <th>Poem</th>\n",
       "      <th>Poet</th>\n",
       "      <th>Tags</th>\n",
       "    </tr>\n",
       "  </thead>\n",
       "  <tbody>\n",
       "    <tr>\n",
       "      <th>1636</th>\n",
       "      <td>103</td>\n",
       "      <td>\\r\\r\\n                    The Tragic Condition...</td>\n",
       "      <td>\\r\\r\\n\\r\\r\\n\\r\\r\\n\\r\\r\\n                      ...</td>\n",
       "      <td>Bernadette Mayer</td>\n",
       "      <td>Arts &amp; Sciences,Architecture &amp; Design,Social C...</td>\n",
       "    </tr>\n",
       "    <tr>\n",
       "      <th>597</th>\n",
       "      <td>26</td>\n",
       "      <td>\\r\\r\\n                    “I’m Stepping Up in ...</td>\n",
       "      <td>\\r\\r\\nThe eye’s desire for relief.\\r\\r\\nI’m th...</td>\n",
       "      <td>Bridget Talone</td>\n",
       "      <td>Living,The Mind,Love,Arts &amp; Sciences,Language ...</td>\n",
       "    </tr>\n",
       "    <tr>\n",
       "      <th>10189</th>\n",
       "      <td>123</td>\n",
       "      <td>\\r\\r\\n                    Zun-zet\\r\\r\\n       ...</td>\n",
       "      <td>\\r\\r\\nWhere the western zun, unclouded,\\r\\r\\n ...</td>\n",
       "      <td>William Barnes</td>\n",
       "      <td>Relationships,Nature,Landscapes &amp; Pastorals,Su...</td>\n",
       "    </tr>\n",
       "    <tr>\n",
       "      <th>11612</th>\n",
       "      <td>127</td>\n",
       "      <td>\\r\\r\\n                    Lemnos\\r\\r\\n        ...</td>\n",
       "      <td>\\r\\r\\n\\r\\r\\n\\r\\r\\n\\r\\r\\nthe deep male growl of...</td>\n",
       "      <td>Karl Kirchwey</td>\n",
       "      <td>Nature,Seas, Rivers, &amp; Streams,Mythology &amp; Fol...</td>\n",
       "    </tr>\n",
       "    <tr>\n",
       "      <th>4194</th>\n",
       "      <td>114</td>\n",
       "      <td>\\r\\r\\n                    A MAD Fold-In Poem\\r...</td>\n",
       "      <td>\\r\\r\\nA ▶                                     ...</td>\n",
       "      <td>Daniel Scott Tysdal</td>\n",
       "      <td>Arts &amp; Sciences,Poetry &amp; Poets,Reading &amp; Books</td>\n",
       "    </tr>\n",
       "  </tbody>\n",
       "</table>\n",
       "</div>"
      ],
      "text/plain": [
       "       Unnamed: 0                                              Title  \\\n",
       "1636          103  \\r\\r\\n                    The Tragic Condition...   \n",
       "597            26  \\r\\r\\n                    “I’m Stepping Up in ...   \n",
       "10189         123  \\r\\r\\n                    Zun-zet\\r\\r\\n       ...   \n",
       "11612         127  \\r\\r\\n                    Lemnos\\r\\r\\n        ...   \n",
       "4194          114  \\r\\r\\n                    A MAD Fold-In Poem\\r...   \n",
       "\n",
       "                                                    Poem                 Poet  \\\n",
       "1636   \\r\\r\\n\\r\\r\\n\\r\\r\\n\\r\\r\\n                      ...     Bernadette Mayer   \n",
       "597    \\r\\r\\nThe eye’s desire for relief.\\r\\r\\nI’m th...       Bridget Talone   \n",
       "10189  \\r\\r\\nWhere the western zun, unclouded,\\r\\r\\n ...       William Barnes   \n",
       "11612  \\r\\r\\n\\r\\r\\n\\r\\r\\n\\r\\r\\nthe deep male growl of...        Karl Kirchwey   \n",
       "4194   \\r\\r\\nA ▶                                     ...  Daniel Scott Tysdal   \n",
       "\n",
       "                                                    Tags  \n",
       "1636   Arts & Sciences,Architecture & Design,Social C...  \n",
       "597    Living,The Mind,Love,Arts & Sciences,Language ...  \n",
       "10189  Relationships,Nature,Landscapes & Pastorals,Su...  \n",
       "11612  Nature,Seas, Rivers, & Streams,Mythology & Fol...  \n",
       "4194      Arts & Sciences,Poetry & Poets,Reading & Books  "
      ]
     },
     "execution_count": 477,
     "metadata": {},
     "output_type": "execute_result"
    }
   ],
   "source": [
    "full_pf = pd.read_csv(os.path.join('/Users/imani/Desktop/info3350', 'PoetryFoundationpoems.csv'))\n",
    "pf = full_pf.drop_duplicates(subset=['Title']) # No duplicate titles\n",
    "pf = pf.drop_duplicates(subset=['Poet']) # Unique authors i.e. unique styles\n",
    "\n",
    "# Filtering to ensure poems of same significant token size as ChatGPT dataset\n",
    "names = list(pf['Title'])\n",
    "j = 0\n",
    "filter_names = []\n",
    "for p in pf['Poem']:\n",
    "    l = wordcount_dict(p).copy()[\"Total tokens\"]\n",
    "    if (l<142) & (l>65):\n",
    "        filter_names.append(names[j])\n",
    "    j+=1\n",
    "pf_filtered = pf.loc[pf['Title'].isin(filter_names)]\n",
    "\n",
    "# Random sample of 50\n",
    "pf_sample = pf_filtered.sample(50)\n",
    "pf_poems = pf_sample['Poem']\n",
    "pf_authors = pf_sample['Poet']\n",
    "pf_titles = pf_sample['Title']\n",
    "\n",
    "print(\"Total poems in Poetry Foundation Poems Dataset:\", len(full_pf))\n",
    "print(\"Total poems in Poetry Foundation Poems Dataset with unique title/author:\", len(pf))\n",
    "print(\"Total poems in Poetry Foundation Poems Dataset of similar length:\", len(pf_filtered))\n",
    "print(\"Number of poems in PF Dataset:\", 50)\n",
    "print(\"\\nSnippet of PF Dataset\")\n",
    "pf_sample.head()"
   ]
  },
  {
   "cell_type": "code",
   "execution_count": 478,
   "metadata": {
    "jupyter": {
     "source_hidden": true
    },
    "tags": []
   },
   "outputs": [
    {
     "data": {
      "text/html": [
       "<style type=\"text/css\">\n",
       "</style>\n",
       "<table id=\"T_fbfb3\">\n",
       "  <caption>Words per PF Dataset Poem</caption>\n",
       "  <thead>\n",
       "    <tr>\n",
       "      <th class=\"blank level0\" >&nbsp;</th>\n",
       "      <th id=\"T_fbfb3_level0_col0\" class=\"col_heading level0 col0\" >Words</th>\n",
       "    </tr>\n",
       "  </thead>\n",
       "  <tbody>\n",
       "    <tr>\n",
       "      <th id=\"T_fbfb3_level0_row0\" class=\"row_heading level0 row0\" >Min</th>\n",
       "      <td id=\"T_fbfb3_row0_col0\" class=\"data row0 col0\" >66.00</td>\n",
       "    </tr>\n",
       "    <tr>\n",
       "      <th id=\"T_fbfb3_level0_row1\" class=\"row_heading level0 row1\" >Max</th>\n",
       "      <td id=\"T_fbfb3_row1_col0\" class=\"data row1 col0\" >138.00</td>\n",
       "    </tr>\n",
       "    <tr>\n",
       "      <th id=\"T_fbfb3_level0_row2\" class=\"row_heading level0 row2\" >Avg</th>\n",
       "      <td id=\"T_fbfb3_row2_col0\" class=\"data row2 col0\" >73.47</td>\n",
       "    </tr>\n",
       "    <tr>\n",
       "      <th id=\"T_fbfb3_level0_row3\" class=\"row_heading level0 row3\" >Total</th>\n",
       "      <td id=\"T_fbfb3_row3_col0\" class=\"data row3 col0\" >4749.00</td>\n",
       "    </tr>\n",
       "  </tbody>\n",
       "</table>\n"
      ],
      "text/plain": [
       "<pandas.io.formats.style.Styler at 0x7f7f8cd546a0>"
      ]
     },
     "execution_count": 478,
     "metadata": {},
     "output_type": "execute_result"
    }
   ],
   "source": [
    "a = countDict(pf_poems)\n",
    "b = poem_stats(pf_poems)\n",
    "\n",
    "pf_countTable = pd.DataFrame(list(a.values())[1:], index=list(a.keys())[1:], columns=['Count'])\n",
    "pfTable10 = pf_countTable[:11]\n",
    "\n",
    "pf_stats = pd.DataFrame(list(b.values()), index=list(b.keys()), columns=['Words'])\n",
    "pf_stats.style.set_caption(\"Words per PF Dataset Poem\").format(precision=2)"
   ]
  },
  {
   "cell_type": "markdown",
   "metadata": {},
   "source": [
    "#### At A Glance: ChatGPT Poems"
   ]
  },
  {
   "cell_type": "code",
   "execution_count": 239,
   "metadata": {
    "jupyter": {
     "source_hidden": true
    },
    "tags": []
   },
   "outputs": [
    {
     "name": "stdout",
     "output_type": "stream",
     "text": [
      "Number of poems by ChatGPT: 50 \n",
      "\n",
      "Snippet of ChatGPT dataset:\n"
     ]
    },
    {
     "data": {
      "text/html": [
       "<div>\n",
       "<style scoped>\n",
       "    .dataframe tbody tr th:only-of-type {\n",
       "        vertical-align: middle;\n",
       "    }\n",
       "\n",
       "    .dataframe tbody tr th {\n",
       "        vertical-align: top;\n",
       "    }\n",
       "\n",
       "    .dataframe thead th {\n",
       "        text-align: right;\n",
       "    }\n",
       "</style>\n",
       "<table border=\"1\" class=\"dataframe\">\n",
       "  <thead>\n",
       "    <tr style=\"text-align: right;\">\n",
       "      <th></th>\n",
       "      <th>author</th>\n",
       "      <th>poem</th>\n",
       "    </tr>\n",
       "  </thead>\n",
       "  <tbody>\n",
       "    <tr>\n",
       "      <th>0</th>\n",
       "      <td>ChatGPT</td>\n",
       "      <td>In twilight's tender, dusky embrace,\\nWhere wh...</td>\n",
       "    </tr>\n",
       "    <tr>\n",
       "      <th>1</th>\n",
       "      <td>ChatGPT</td>\n",
       "      <td>In a realm where moonbeams softly play,\\nAnd s...</td>\n",
       "    </tr>\n",
       "    <tr>\n",
       "      <th>2</th>\n",
       "      <td>ChatGPT</td>\n",
       "      <td>Of mountains tall and rivers deep,\\nWhere whis...</td>\n",
       "    </tr>\n",
       "    <tr>\n",
       "      <th>3</th>\n",
       "      <td>ChatGPT</td>\n",
       "      <td>In the twilight's gentle embrace,\\nWhere shado...</td>\n",
       "    </tr>\n",
       "    <tr>\n",
       "      <th>4</th>\n",
       "      <td>ChatGPT</td>\n",
       "      <td>In twilight's gentle, fading hue,\\nWhere dream...</td>\n",
       "    </tr>\n",
       "  </tbody>\n",
       "</table>\n",
       "</div>"
      ],
      "text/plain": [
       "    author                                               poem\n",
       "0  ChatGPT  In twilight's tender, dusky embrace,\\nWhere wh...\n",
       "1  ChatGPT  In a realm where moonbeams softly play,\\nAnd s...\n",
       "2  ChatGPT  Of mountains tall and rivers deep,\\nWhere whis...\n",
       "3  ChatGPT  In the twilight's gentle embrace,\\nWhere shado...\n",
       "4  ChatGPT  In twilight's gentle, fading hue,\\nWhere dream..."
      ]
     },
     "execution_count": 239,
     "metadata": {},
     "output_type": "execute_result"
    }
   ],
   "source": [
    "chatgpt = pd.read_csv(os.path.join('/Users/imani/Desktop/info3350', 'chatgpt_poems.csv'))\n",
    "chatgpt_poems = chatgpt['poem']\n",
    "\n",
    "print(\"Number of poems by ChatGPT:\", len(chatgpt_poems), \"\\n\\nSnippet of ChatGPT dataset:\")\n",
    "chatgpt.head()"
   ]
  },
  {
   "cell_type": "code",
   "execution_count": 157,
   "metadata": {
    "jupyter": {
     "source_hidden": true
    },
    "tags": []
   },
   "outputs": [
    {
     "data": {
      "text/html": [
       "<style type=\"text/css\">\n",
       "</style>\n",
       "<table id=\"T_32263\">\n",
       "  <caption>Words per ChatGPT Poem</caption>\n",
       "  <thead>\n",
       "    <tr>\n",
       "      <th class=\"blank level0\" >&nbsp;</th>\n",
       "      <th id=\"T_32263_level0_col0\" class=\"col_heading level0 col0\" >Words</th>\n",
       "    </tr>\n",
       "  </thead>\n",
       "  <tbody>\n",
       "    <tr>\n",
       "      <th id=\"T_32263_level0_row0\" class=\"row_heading level0 row0\" >Min</th>\n",
       "      <td id=\"T_32263_row0_col0\" class=\"data row0 col0\" >66.00</td>\n",
       "    </tr>\n",
       "    <tr>\n",
       "      <th id=\"T_32263_level0_row1\" class=\"row_heading level0 row1\" >Max</th>\n",
       "      <td id=\"T_32263_row1_col0\" class=\"data row1 col0\" >141.00</td>\n",
       "    </tr>\n",
       "    <tr>\n",
       "      <th id=\"T_32263_level0_row2\" class=\"row_heading level0 row2\" >Avg</th>\n",
       "      <td id=\"T_32263_row2_col0\" class=\"data row2 col0\" >130.34</td>\n",
       "    </tr>\n",
       "    <tr>\n",
       "      <th id=\"T_32263_level0_row3\" class=\"row_heading level0 row3\" >Total</th>\n",
       "      <td id=\"T_32263_row3_col0\" class=\"data row3 col0\" >5335.00</td>\n",
       "    </tr>\n",
       "  </tbody>\n",
       "</table>\n"
      ],
      "text/plain": [
       "<pandas.io.formats.style.Styler at 0x7f804f35e0e0>"
      ]
     },
     "execution_count": 157,
     "metadata": {},
     "output_type": "execute_result"
    }
   ],
   "source": [
    "x = countDict(chatgpt_poems)\n",
    "y = poem_stats(chatgpt_poems)\n",
    "\n",
    "chatgpt_countTable = pd.DataFrame(list(x.values())[1:], index=list(x.keys())[1:], columns=['Count'])\n",
    "chatTable10 = chatgpt_countTable[:11]\n",
    "\n",
    "chat_stats = pd.DataFrame(list(y.values()), index=list(y.keys()), columns=['Words'])\n",
    "chat_stats.style.set_caption(\"Words per ChatGPT Poem\").format(precision=2)"
   ]
  },
  {
   "cell_type": "markdown",
   "metadata": {},
   "source": [
    "## Method: Data Anaylsis & Poem Classification\n",
    "\n",
    "In this project, I will conduct extensive data analysis of the ChatGPT dataset and PF Dataset. The analysis will be guided be by a traditional poetry analysis focusing on theme, diction, rhythm, and agency. I will use the following methods:\n",
    "- Nltk ```Word Tokenizer``` & ```FreqDict```\n",
    "- Custom rhythm identifying functions\n",
    "\n",
    "Then, I will use a DistilBERT classification model to examine whether ChatGPT poetry is discernible from poetry written by human authors. In other words, do large language models, as method of mechanical reproducing the poetic authorship, successfully mimic the poetic tradition? For this, I will use the following methods:\n",
    "- DistilBERT\n",
    "- Nltk ```StratifiedKFold```\n",
    "- Torch encoding\n",
    "- Sklearn ```classification report```"
   ]
  },
  {
   "cell_type": "markdown",
   "metadata": {},
   "source": [
    "## Results"
   ]
  },
  {
   "cell_type": "markdown",
   "metadata": {},
   "source": [
    "### Data Analysis"
   ]
  },
  {
   "cell_type": "markdown",
   "metadata": {},
   "source": [
    "#### Theme & Diction"
   ]
  },
  {
   "cell_type": "code",
   "execution_count": 479,
   "metadata": {
    "jupyter": {
     "source_hidden": true
    },
    "tags": []
   },
   "outputs": [
    {
     "data": {
      "text/plain": [
       "<Axes: title={'center': 'Top 10 Diction Count in PF Poems'}>"
      ]
     },
     "execution_count": 479,
     "metadata": {},
     "output_type": "execute_result"
    },
    {
     "data": {
      "image/png": "[encoded data removed]",
      "text/plain": [
       "<Figure size 640x480 with 1 Axes>"
      ]
     },
     "metadata": {},
     "output_type": "display_data"
    }
   ],
   "source": [
    "pfTable10.plot.bar(title='Top 10 Diction Count in PF Poems', color='blue')"
   ]
  },
  {
   "cell_type": "code",
   "execution_count": 146,
   "metadata": {
    "jupyter": {
     "source_hidden": true
    },
    "tags": []
   },
   "outputs": [
    {
     "data": {
      "text/plain": [
       "<Axes: title={'center': 'Top 10 Diction Count in ChatGPT Poems'}>"
      ]
     },
     "execution_count": 146,
     "metadata": {},
     "output_type": "execute_result"
    },
    {
     "data": {
      "image/png": "[encoded data removed]",
      "text/plain": [
       "<Figure size 640x480 with 1 Axes>"
      ]
     },
     "metadata": {},
     "output_type": "display_data"
    }
   ],
   "source": [
    "chatTable10.plot.bar(title='Top 10 Diction Count in ChatGPT Poems', color='green')"
   ]
  },
  {
   "cell_type": "markdown",
   "metadata": {
    "tags": []
   },
   "source": [
    "#### Rhythm"
   ]
  },
  {
   "cell_type": "code",
   "execution_count": 476,
   "metadata": {
    "jupyter": {
     "source_hidden": true
    },
    "tags": []
   },
   "outputs": [],
   "source": [
    "# Get set of rhyming words of given word\n",
    "def rhyme(term, level=1):\n",
    "    entries = nltk.corpus.cmudict.entries()\n",
    "    syllables = [(word, syl) for word, syl in entries if word == term]\n",
    "    rhymes = []\n",
    "    for (word, syllable) in syllables:\n",
    "        rhymes += [word for word, pron in entries if pron[-level:] == syllable[-level:]]\n",
    "    return set(rhymes)\n",
    "# Bool if two words rhyme\n",
    "def ifRhyme(word1, word2):\n",
    "    return word1 in rhyme(word2)\n",
    "# Examine rhymes of couplets\n",
    "def rhythm(poem):\n",
    "    rhymes = []\n",
    "    lines = poem.split(\"\\n\")\n",
    "    lines = map(lambda x: x.replace('\\r',''), lines)\n",
    "    lines=[j for i,j in enumerate(lines) if ((j!=''))]\n",
    "    for i in range(len(lines)-2):\n",
    "        l1 = nltk.word_tokenize(lines[i])\n",
    "        l1 = [j for i,j in enumerate(l1) if (j.isalpha() & (j!='') & (j!=' '))]\n",
    "        if (len(l1) == 0): l1= 'q'\n",
    "        l2 = nltk.word_tokenize(lines[i+1])\n",
    "        l2 = [j for i,j in enumerate(l2) if (j.isalpha() & (j!='') & (j!=' '))]\n",
    "        if (len(l2) == 0): l2= 'q'\n",
    "        last1 = l1[len(l1)-1]\n",
    "        last2 = l2[len(l2)-1]\n",
    "        rhymes.append(ifRhyme(last1, last2))\n",
    "    return rhymes\n",
    "# Number of rhyming couplets per poem in dataset\n",
    "def rhyming_couplets(data):\n",
    "    couplets = {\"0\" : 0, \"1\": 0, \"2\": 0, \"3\": 0, \"4\": 0, \"5\": 0, \"6+\": 0}\n",
    "    for poem in data:\n",
    "        c = rhythm(poem).count(True)\n",
    "        if c<6: couplets[str(c)]+=1\n",
    "        else: couplets[\"6+\"]+=1\n",
    "    return couplets"
   ]
  },
  {
   "cell_type": "code",
   "execution_count": 480,
   "metadata": {
    "jupyter": {
     "source_hidden": true
    },
    "tags": []
   },
   "outputs": [],
   "source": [
    "chat_rhymes = rhyming_couplets(chatgpt_poems)\n",
    "pf_rhymes = rhyming_couplets(pf_poems)"
   ]
  },
  {
   "cell_type": "code",
   "execution_count": 483,
   "metadata": {
    "jupyter": {
     "source_hidden": true
    },
    "tags": []
   },
   "outputs": [
    {
     "data": {
      "text/plain": [
       "array([<Axes: ylabel='PF'>, <Axes: ylabel='ChatGPT'>], dtype=object)"
      ]
     },
     "metadata": {},
     "output_type": "display_data"
    },
    {
     "data": {
      "image/png": "[encoded data removed]",
      "text/plain": [
       "<Figure size 1100x600 with 2 Axes>"
      ]
     },
     "metadata": {},
     "output_type": "display_data"
    }
   ],
   "source": [
    "rhymeDF = pd.DataFrame({'PF': list(pf_rhymes.values()),'ChatGPT': list(chat_rhymes.values())}, index=list(chat_rhymes.keys()))\n",
    "rhyme_plot = rhymeDF.plot.pie(subplots=True, figsize=(11, 6), title='Number of Rhyming Couplets Per Poem in Dataset')\n",
    "display(rhyme_plot)"
   ]
  },
  {
   "cell_type": "markdown",
   "metadata": {},
   "source": [
    "#### Agency"
   ]
  },
  {
   "cell_type": "markdown",
   "metadata": {},
   "source": [
    "The subject of a poem is crucial and often a means for the author to exert agency within their work. Afterall, the function of poetry is often considered to communicate an individual's emotions and experiences. For example, consider \"The Epic of Gilgamesh,\" the world's oldest poem, that tells of the story of a hero, the King of Uruk. Written in 12 tablets, the introducty stanza opens, \"He who has seen everything, I will make known to the lands. /\n",
    "I will teach about him who experienced all things\". Already, readers are introduced to the owner of the poem (the author) who will narrate and share the tale of \"the hero, born of Uruk, the goring wild bull\" [4].\n",
    "\n",
    "So, when prompted to assume a poet, who/what is the subject of ChatGPT's poetry? Does it act as a narrator? Does it illustrate \"personal\" experiences? Who are the actors in its literature? To answer this, I will examine the use of pronouns within the poetry produced by ChatGPT as well as the 50 random human-authored poems I have selected."
   ]
  },
  {
   "cell_type": "code",
   "execution_count": 242,
   "metadata": {
    "jupyter": {
     "source_hidden": true
    },
    "tags": []
   },
   "outputs": [],
   "source": [
    "# Return dictionary of counts of pronouns in dataset and list of poems by index that used pronouns\n",
    "def agency(data):\n",
    "    agencyDict = {'she': 0, 'her': 0, 'hers': 0, 'he': 0, 'him': 0, 'his': 0, 'they': 0, 'them': 0, 'their': 0, 'I': 0, 'my': 0, 'mine': 0, 'we': 0, 'our': 0, 'ours': 0}\n",
    "    ipoem = 0\n",
    "    poemlist = []\n",
    "    for poem in data:\n",
    "        tokens = nltk.word_tokenize(poem)\n",
    "        for pronoun in agencyDict:\n",
    "            if pronoun in tokens:\n",
    "                poemlist.append(ipoem)\n",
    "                agencyDict[pronoun] += tokens.count(pronoun)\n",
    "        ipoem+=1\n",
    "    return poemlist, agencyDict"
   ]
  },
  {
   "cell_type": "markdown",
   "metadata": {},
   "source": [
    "To identify use of agency within a poem, I counted the instances of pronouns -- she, her, hers, he, him, his, they, them, theirs, I, my, mine, we, our, and ours. Of the poems generated by ChatGPT, 74% utilized word choice that assert the machine's voice and place in its literature. In the final stanza of Poem 11, ChatGPT writes:\n",
    ">So let us, too, with voices clear,\n",
    "\n",
    ">Compose a verse for all to hear. \n",
    "\n",
    ">In every breath, in every rhyme, \n",
    "\n",
    ">We find our place in the grand design. (lines 32-36)\n",
    "\n",
    "This poem is composed of diction that conveys themes of time, hope and desire. In this stanza, ChatGPT calls to readers to join it, with a voice outside of its functionalities, to find a space within the \"grand design\" of earthly beauty and universal majesty. In other words, ChatGPT manufactures poetry that directly interacts with its audience and declares the model's ownership of its work.\n",
    "\n",
    "Refer to Poem 11 below."
   ]
  },
  {
   "cell_type": "code",
   "execution_count": 218,
   "metadata": {
    "jupyter": {
     "source_hidden": true
    },
    "tags": []
   },
   "outputs": [
    {
     "name": "stdout",
     "output_type": "stream",
     "text": [
      "Poem 11 by ChatGPT\n",
      "\n",
      " In twilight's gentle, fading glow,\n",
      "A canvas painted, stars aglow.\n",
      "Moonlight whispers, silver streams,\n",
      "A sonnet written in nature's dreams.\n",
      "\n",
      "Beneath the canopy of night,\n",
      "Whispers dance in soft moonlight.\n",
      "The breeze, a poet's unseen quill,\n",
      "Carves verses on the world's still.\n",
      "\n",
      "Mountains stand in silent grace,\n",
      "Guardians of the cosmic space.\n",
      "Their peaks, like ancient bards of old,\n",
      "Tell tales of mysteries untold.\n",
      "\n",
      "A river weaves its liquid rhyme,\n",
      "Reflecting moonbeams over time.\n",
      "It murmurs secrets to the night,\n",
      "A serenade, pure and light.\n",
      "\n",
      "Owls, the poets of the trees,\n",
      "Compose nocturnal symphonies.\n",
      "Their hoots, a rhythmic, ancient song,\n",
      "In the quiet, they belong.\n",
      "\n",
      "The flowers, stars of earthly birth,\n",
      "Unfold their petals to the earth.\n",
      "A fragrant verse in every bloom,\n",
      "A whispered promise of life's perfume.\n",
      "\n",
      "As night unfolds its mystic scroll,\n",
      "A poet's heart begins to stroll.\n",
      "Through realms of dreams, it takes its flight,\n",
      "A journey into the poet's night.\n",
      "\n",
      "In this celestial ballet,\n",
      "Nature's verses light the way.\n",
      "The world, a poem in cosmic ink,\n",
      "A masterpiece on which we think.\n",
      "\n",
      "So let us, too, with voices clear,\n",
      "Compose a verse for all to hear.\n",
      "In every breath, in every rhyme,\n",
      "We find our place in the grand design.\n"
     ]
    }
   ],
   "source": [
    "print(\"Poem 11 by ChatGPT\\n\\n\", chatgpt_poems[agency(chatgpt_poems)[0][10]])"
   ]
  },
  {
   "cell_type": "markdown",
   "metadata": {},
   "source": [
    "Conversely, the poems in the PF Dataset used an overwhelming amount agency: 100% used at least one of the pronouns. One such poem is \"Washee/Was She\" by Sahar Muradi. Muradi writes:"
   ]
  },
  {
   "cell_type": "code",
   "execution_count": 341,
   "metadata": {
    "jupyter": {
     "source_hidden": true
    },
    "tags": []
   },
   "outputs": [
    {
     "name": "stdout",
     "output_type": "stream",
     "text": [
      "\n",
      "she was washee i told her you are\n",
      "like your motherland a wilderness\n",
      "needs a belt laid down two white\n",
      "hotel towels took her into the tub towudu the boys out of her mouth pointed\n",
      "her nipples toward qibla wiped clean\n",
      "her intention to perform ruk’u as if\n",
      "carrying a glass of chai on her back\n",
      "fold at the knees palms to the ground\n",
      "tucked her soles under her astaghfirullah\n",
      "used country\n",
      "\n",
      "in my used country I felt his teeth\n",
      "circle as a mosquito the black mystery\n",
      "he placed my right hand over my wrong\n",
      "stain said he was bringing me home\n",
      "offered me a suite with a lock a key in\n",
      "the shape of a brother perhaps twenty-\n",
      "two years old my body pure as a glass\n",
      "table he spilled was she my boss on my\n",
      "back at night came easy as a fly\n",
      "to post-conflict faithfully\n",
      "used my country\n",
      "\n"
     ]
    }
   ],
   "source": [
    "pf_list = list(pf_poems)\n",
    "print(pf_list[agency(pf_poems)[0][27]])"
   ]
  },
  {
   "cell_type": "markdown",
   "metadata": {},
   "source": [
    "In her poem, Muradi's voice is almost overpowering; she strongly defines herself in this narrative poem. She brings readers into her own past and reflects on her memories. Indeed, she fully exercises the poetic function to narrate her personal experiences, of which ChatGPT has none."
   ]
  },
  {
   "cell_type": "code",
   "execution_count": 350,
   "metadata": {
    "jupyter": {
     "source_hidden": true
    },
    "tags": []
   },
   "outputs": [
    {
     "data": {
      "text/html": [
       "<div>\n",
       "<style scoped>\n",
       "    .dataframe tbody tr th:only-of-type {\n",
       "        vertical-align: middle;\n",
       "    }\n",
       "\n",
       "    .dataframe tbody tr th {\n",
       "        vertical-align: top;\n",
       "    }\n",
       "\n",
       "    .dataframe thead th {\n",
       "        text-align: right;\n",
       "    }\n",
       "</style>\n",
       "<table border=\"1\" class=\"dataframe\">\n",
       "  <thead>\n",
       "    <tr style=\"text-align: right;\">\n",
       "      <th></th>\n",
       "      <th>ChatGPT</th>\n",
       "      <th>PF</th>\n",
       "    </tr>\n",
       "  </thead>\n",
       "  <tbody>\n",
       "    <tr>\n",
       "      <th>she</th>\n",
       "      <td>0</td>\n",
       "      <td>44</td>\n",
       "    </tr>\n",
       "    <tr>\n",
       "      <th>her</th>\n",
       "      <td>1</td>\n",
       "      <td>58</td>\n",
       "    </tr>\n",
       "    <tr>\n",
       "      <th>hers</th>\n",
       "      <td>0</td>\n",
       "      <td>0</td>\n",
       "    </tr>\n",
       "    <tr>\n",
       "      <th>he</th>\n",
       "      <td>0</td>\n",
       "      <td>38</td>\n",
       "    </tr>\n",
       "    <tr>\n",
       "      <th>him</th>\n",
       "      <td>0</td>\n",
       "      <td>20</td>\n",
       "    </tr>\n",
       "    <tr>\n",
       "      <th>his</th>\n",
       "      <td>0</td>\n",
       "      <td>47</td>\n",
       "    </tr>\n",
       "    <tr>\n",
       "      <th>they</th>\n",
       "      <td>10</td>\n",
       "      <td>21</td>\n",
       "    </tr>\n",
       "    <tr>\n",
       "      <th>them</th>\n",
       "      <td>1</td>\n",
       "      <td>17</td>\n",
       "    </tr>\n",
       "    <tr>\n",
       "      <th>their</th>\n",
       "      <td>15</td>\n",
       "      <td>16</td>\n",
       "    </tr>\n",
       "    <tr>\n",
       "      <th>I</th>\n",
       "      <td>5</td>\n",
       "      <td>286</td>\n",
       "    </tr>\n",
       "    <tr>\n",
       "      <th>my</th>\n",
       "      <td>0</td>\n",
       "      <td>108</td>\n",
       "    </tr>\n",
       "    <tr>\n",
       "      <th>mine</th>\n",
       "      <td>0</td>\n",
       "      <td>5</td>\n",
       "    </tr>\n",
       "    <tr>\n",
       "      <th>we</th>\n",
       "      <td>26</td>\n",
       "      <td>30</td>\n",
       "    </tr>\n",
       "    <tr>\n",
       "      <th>our</th>\n",
       "      <td>16</td>\n",
       "      <td>21</td>\n",
       "    </tr>\n",
       "    <tr>\n",
       "      <th>ours</th>\n",
       "      <td>0</td>\n",
       "      <td>0</td>\n",
       "    </tr>\n",
       "  </tbody>\n",
       "</table>\n",
       "</div>"
      ],
      "text/plain": [
       "       ChatGPT   PF\n",
       "she          0   44\n",
       "her          1   58\n",
       "hers         0    0\n",
       "he           0   38\n",
       "him          0   20\n",
       "his          0   47\n",
       "they        10   21\n",
       "them         1   17\n",
       "their       15   16\n",
       "I            5  286\n",
       "my           0  108\n",
       "mine         0    5\n",
       "we          26   30\n",
       "our         16   21\n",
       "ours         0    0"
      ]
     },
     "metadata": {},
     "output_type": "display_data"
    }
   ],
   "source": [
    "chat_agency = list(agency(chatgpt_poems)[1].values())\n",
    "pf_agency = list(agency(pf_poems)[1].values())\n",
    "index = list(agency(chatgpt_poems)[1].keys())\n",
    "agencydf = pd.DataFrame({'ChatGPT':chat_agency, 'PF':pf_agency}, index=index)\n",
    "display(agencydf)"
   ]
  },
  {
   "cell_type": "markdown",
   "metadata": {},
   "source": [
    "The table above and the graph below compare the use of pronouns to assert the author's voice in the ChatGPT and PF poems. Clearly, the PF poems contained significantly more words of agency -- the PF Dataset included 711 pronouns while the ChatGPT dataset only contained 74. \n",
    "\n",
    "And when using diction to convey a sense of voice and place within its poetry, ChatGPT often used words that refered to the collective; 'we', 'their', and 'ours' were the three most used pronouns. 'I' was only used 5 times. While some might conclude that this implies that ChatGPT is a sentient machine with a feeble concept of its user and itself, I stray from such a drastic assertion. Rather, in terms of use of agency in its poetry, I find that ChatGPT is more accustomed to poetry that refer to the collective rather than itself. This is suprising, given the overwhelming use of pronouns in the poetic canon, from which the model is presumably, in part, trained on and what the PF Dataset, in this study, represents. Further investigation into constraints placed by OpenAI and its reinforcement learning are needed to draw a more definitive statement."
   ]
  },
  {
   "cell_type": "code",
   "execution_count": 353,
   "metadata": {
    "jupyter": {
     "source_hidden": true
    },
    "tags": []
   },
   "outputs": [
    {
     "data": {
      "text/plain": [
       "<Axes: >"
      ]
     },
     "execution_count": 353,
     "metadata": {},
     "output_type": "execute_result"
    },
    {
     "data": {
      "image/png": "[encoded data removed]",
      "text/plain": [
       "<Figure size 640x480 with 1 Axes>"
      ]
     },
     "metadata": {},
     "output_type": "display_data"
    }
   ],
   "source": [
    "agencydf.plot.bar(color={'ChatGPT':'green', 'PF':'blue'})"
   ]
  },
  {
   "cell_type": "markdown",
   "metadata": {},
   "source": [
    "### Poem Classification"
   ]
  },
  {
   "cell_type": "markdown",
   "metadata": {},
   "source": [
    "#### Creating the Training and Testing Dataset\n",
    "ChatGPT poems are labeled ```True``` and PF poems are labeled ```False```."
   ]
  },
  {
   "cell_type": "code",
   "execution_count": 354,
   "metadata": {
    "jupyter": {
     "source_hidden": true
    },
    "tags": []
   },
   "outputs": [
    {
     "data": {
      "text/html": [
       "<div>\n",
       "<style scoped>\n",
       "    .dataframe tbody tr th:only-of-type {\n",
       "        vertical-align: middle;\n",
       "    }\n",
       "\n",
       "    .dataframe tbody tr th {\n",
       "        vertical-align: top;\n",
       "    }\n",
       "\n",
       "    .dataframe thead th {\n",
       "        text-align: right;\n",
       "    }\n",
       "</style>\n",
       "<table border=\"1\" class=\"dataframe\">\n",
       "  <thead>\n",
       "    <tr style=\"text-align: right;\">\n",
       "      <th></th>\n",
       "      <th>train</th>\n",
       "      <th>test</th>\n",
       "    </tr>\n",
       "  </thead>\n",
       "  <tbody>\n",
       "    <tr>\n",
       "      <th>ChatGPT</th>\n",
       "      <td>38</td>\n",
       "      <td>12</td>\n",
       "    </tr>\n",
       "    <tr>\n",
       "      <th>Human</th>\n",
       "      <td>42</td>\n",
       "      <td>8</td>\n",
       "    </tr>\n",
       "  </tbody>\n",
       "</table>\n",
       "</div>"
      ],
      "text/plain": [
       "         train  test\n",
       "ChatGPT     38    12\n",
       "Human       42     8"
      ]
     },
     "metadata": {},
     "output_type": "display_data"
    }
   ],
   "source": [
    "# Creating the training dataset (80/20 split)\n",
    "all_data = list(chatgpt_poems) + list(pf_poems)\n",
    "labels = ['True']*50 + ['False']*50\n",
    "train_poems, test_poems, train_labels, test_labels = train_test_split(all_data, labels, test_size=0.2, random_state=42)\n",
    "\n",
    "split_stats = pd.DataFrame({'train': [train_labels.count('True'), train_labels.count('False')], 'test' :[test_labels.count('True'), test_labels.count('False')]}, index=['ChatGPT', 'Human'])\n",
    "display(split_stats)"
   ]
  },
  {
   "cell_type": "markdown",
   "metadata": {
    "tags": []
   },
   "source": [
    "##### Encoding Data & Custom Torch Dataset for BERT"
   ]
  },
  {
   "cell_type": "code",
   "execution_count": 355,
   "metadata": {
    "jupyter": {
     "source_hidden": true
    },
    "tags": []
   },
   "outputs": [],
   "source": [
    "# encode data for BERT\n",
    "model_name = 'distilbert-base-cased'\n",
    "tokenizer = DistilBertTokenizerFast.from_pretrained(model_name)\n",
    "\n",
    "unique_labels = set(author for author in train_labels)\n",
    "label2id = {label: id for id, label in enumerate(unique_labels)}\n",
    "id2label = {id: label for label, id in label2id.items()}\n",
    "\n",
    "max_length = 152\n",
    "train_encodings = tokenizer(train_poems, truncation=True, padding=True, max_length=max_length)\n",
    "test_encodings  = tokenizer(test_poems, truncation=True, padding=True, max_length=max_length)\n",
    "\n",
    "train_labels_encoded = [label2id[Y] for Y in train_labels]\n",
    "test_labels_encoded  = [label2id[Y] for Y in test_labels]"
   ]
  },
  {
   "cell_type": "code",
   "execution_count": 356,
   "metadata": {
    "jupyter": {
     "source_hidden": true
    },
    "tags": []
   },
   "outputs": [],
   "source": [
    "# custom Torch dataset\n",
    "class MyDataset(torch.utils.data.Dataset):\n",
    "    def __init__(self, encodings, labels):\n",
    "        self.encodings = encodings\n",
    "        self.labels = labels\n",
    "\n",
    "    def __getitem__(self, idx):\n",
    "        item = {key: torch.tensor(val[idx]) for key, val in self.encodings.items()}\n",
    "        item['labels'] = torch.tensor(self.labels[idx])\n",
    "        return item\n",
    "\n",
    "    def __len__(self):\n",
    "        return len(self.labels)\n",
    "\n",
    "train_dataset = MyDataset(train_encodings, train_labels_encoded)\n",
    "test_dataset = MyDataset(test_encodings, test_labels_encoded)"
   ]
  },
  {
   "cell_type": "markdown",
   "metadata": {},
   "source": [
    "#### Training DistilBERT Model\n",
    "Given the small dataset, I am attempting to mitigate overfitting by adjusting the following parameters:\n",
    "- decrease number of training epochs\n",
    "- reduce the learning rate\n",
    "- reduce batch size during training\n",
    "- lower strength of weight decay to avoid over-regularization\n",
    "\n",
    "I also used a 5-fold cross validition over the training data to avoid reporting an inaccurate f1 and accuracy score. Still, given the data size and the disctinct features identified in the previous data analysis, I acknowledge that, regardless, the model might return high accuracy."
   ]
  },
  {
   "cell_type": "code",
   "execution_count": 360,
   "metadata": {
    "collapsed": true,
    "jupyter": {
     "outputs_hidden": true,
     "source_hidden": true
    },
    "tags": []
   },
   "outputs": [
    {
     "name": "stderr",
     "output_type": "stream",
     "text": [
      "Some weights of the model checkpoint at distilbert-base-cased were not used when initializing DistilBertForSequenceClassification: ['vocab_layer_norm.weight', 'vocab_transform.bias', 'vocab_transform.weight', 'vocab_projector.bias', 'vocab_projector.weight', 'vocab_layer_norm.bias']\n",
      "- This IS expected if you are initializing DistilBertForSequenceClassification from the checkpoint of a model trained on another task or with another architecture (e.g. initializing a BertForSequenceClassification model from a BertForPreTraining model).\n",
      "- This IS NOT expected if you are initializing DistilBertForSequenceClassification from the checkpoint of a model that you expect to be exactly identical (initializing a BertForSequenceClassification model from a BertForSequenceClassification model).\n",
      "Some weights of DistilBertForSequenceClassification were not initialized from the model checkpoint at distilbert-base-cased and are newly initialized: ['classifier.bias', 'pre_classifier.bias', 'classifier.weight', 'pre_classifier.weight']\n",
      "You should probably TRAIN this model on a down-stream task to be able to use it for predictions and inference.\n"
     ]
    }
   ],
   "source": [
    "# load pretrained BERT model and sent to CUDA\n",
    "model = DistilBertForSequenceClassification.from_pretrained(model_name, num_labels=2).to('cpu')"
   ]
  },
  {
   "cell_type": "code",
   "execution_count": 524,
   "metadata": {
    "collapsed": true,
    "jupyter": {
     "outputs_hidden": true,
     "source_hidden": true
    },
    "tags": []
   },
   "outputs": [
    {
     "name": "stderr",
     "output_type": "stream",
     "text": [
      "PyTorch: setting up devices\n",
      "The default value for the training argument `--report_to` will change in v5 (from all installed integrations to none). In v5, you will need to use `--report_to all` to get the same behavior as now. You should start updating your code and make this info disappear :-).\n"
     ]
    }
   ],
   "source": [
    "training_args = TrainingArguments(\n",
    "    num_train_epochs=3,              # total number of training epochs\n",
    "    per_device_train_batch_size=8,  # batch size per device during training\n",
    "    per_device_eval_batch_size=20,   # batch size for evaluation\n",
    "    learning_rate=1e-4,              # initial learning rate for Adam optimizer\n",
    "    warmup_steps=100,                # number of warmup steps for learning rate scheduler (set lower because of small dataset size)\n",
    "    weight_decay=1e-6,               # strength of weight decay (L2 regularization)\n",
    "    output_dir='./results',          # output directory\n",
    "    logging_dir='./logs',            # directory for storing logs\n",
    "    eval_steps=100,               # number of steps to output logging (set lower because of small dataset size)\n",
    "    evaluation_strategy='steps',     # evaluate during fine-tuning so that we can see progress\n",
    ")"
   ]
  },
  {
   "cell_type": "code",
   "execution_count": 525,
   "metadata": {
    "jupyter": {
     "source_hidden": true
    },
    "tags": []
   },
   "outputs": [],
   "source": [
    "def compute_metrics(pred):\n",
    "    labels = pred.label_ids\n",
    "    preds = pred.predictions.argmax(-1)\n",
    "    score = f1_score(labels, preds, average='weighted')\n",
    "    return {'f1': score,}"
   ]
  },
  {
   "cell_type": "code",
   "execution_count": 526,
   "metadata": {
    "collapsed": true,
    "jupyter": {
     "outputs_hidden": true,
     "source_hidden": true
    },
    "tags": []
   },
   "outputs": [
    {
     "name": "stderr",
     "output_type": "stream",
     "text": [
      "/Users/imani/opt/anaconda3/envs/3350/lib/python3.10/site-packages/transformers/optimization.py:306: FutureWarning: This implementation of AdamW is deprecated and will be removed in a future version. Use the PyTorch implementation torch.optim.AdamW instead, or set `no_deprecation_warning=True` to disable this warning\n",
      "  warnings.warn(\n",
      "***** Running training *****\n",
      "  Num examples = 64\n",
      "  Num Epochs = 3\n",
      "  Instantaneous batch size per device = 8\n",
      "  Total train batch size (w. parallel, distributed & accumulation) = 8\n",
      "  Gradient Accumulation steps = 1\n",
      "  Total optimization steps = 24\n",
      "  Number of trainable parameters = 65783042\n"
     ]
    },
    {
     "data": {
      "text/html": [
       "\n",
       "    <div>\n",
       "      \n",
       "      <progress value='24' max='24' style='width:300px; height:20px; vertical-align: middle;'></progress>\n",
       "      [24/24 02:03, Epoch 3/3]\n",
       "    </div>\n",
       "    <table border=\"1\" class=\"dataframe\">\n",
       "  <thead>\n",
       " <tr style=\"text-align: left;\">\n",
       "      <th>Step</th>\n",
       "      <th>Training Loss</th>\n",
       "      <th>Validation Loss</th>\n",
       "    </tr>\n",
       "  </thead>\n",
       "  <tbody>\n",
       "  </tbody>\n",
       "</table><p>"
      ],
      "text/plain": [
       "<IPython.core.display.HTML object>"
      ]
     },
     "metadata": {},
     "output_type": "display_data"
    },
    {
     "name": "stderr",
     "output_type": "stream",
     "text": [
      "\n",
      "\n",
      "Training completed. Do not forget to share your model on huggingface.co/models =)\n",
      "\n",
      "\n",
      "***** Running training *****\n",
      "  Num examples = 64\n",
      "  Num Epochs = 3\n",
      "  Instantaneous batch size per device = 8\n",
      "  Total train batch size (w. parallel, distributed & accumulation) = 8\n",
      "  Gradient Accumulation steps = 1\n",
      "  Total optimization steps = 24\n",
      "  Number of trainable parameters = 65783042\n"
     ]
    },
    {
     "data": {
      "text/html": [
       "\n",
       "    <div>\n",
       "      \n",
       "      <progress value='24' max='24' style='width:300px; height:20px; vertical-align: middle;'></progress>\n",
       "      [24/24 02:25, Epoch 3/3]\n",
       "    </div>\n",
       "    <table border=\"1\" class=\"dataframe\">\n",
       "  <thead>\n",
       " <tr style=\"text-align: left;\">\n",
       "      <th>Step</th>\n",
       "      <th>Training Loss</th>\n",
       "      <th>Validation Loss</th>\n",
       "    </tr>\n",
       "  </thead>\n",
       "  <tbody>\n",
       "  </tbody>\n",
       "</table><p>"
      ],
      "text/plain": [
       "<IPython.core.display.HTML object>"
      ]
     },
     "metadata": {},
     "output_type": "display_data"
    },
    {
     "name": "stderr",
     "output_type": "stream",
     "text": [
      "\n",
      "\n",
      "Training completed. Do not forget to share your model on huggingface.co/models =)\n",
      "\n",
      "\n",
      "***** Running training *****\n",
      "  Num examples = 64\n",
      "  Num Epochs = 3\n",
      "  Instantaneous batch size per device = 8\n",
      "  Total train batch size (w. parallel, distributed & accumulation) = 8\n",
      "  Gradient Accumulation steps = 1\n",
      "  Total optimization steps = 24\n",
      "  Number of trainable parameters = 65783042\n"
     ]
    },
    {
     "data": {
      "text/html": [
       "\n",
       "    <div>\n",
       "      \n",
       "      <progress value='24' max='24' style='width:300px; height:20px; vertical-align: middle;'></progress>\n",
       "      [24/24 02:20, Epoch 3/3]\n",
       "    </div>\n",
       "    <table border=\"1\" class=\"dataframe\">\n",
       "  <thead>\n",
       " <tr style=\"text-align: left;\">\n",
       "      <th>Step</th>\n",
       "      <th>Training Loss</th>\n",
       "      <th>Validation Loss</th>\n",
       "    </tr>\n",
       "  </thead>\n",
       "  <tbody>\n",
       "  </tbody>\n",
       "</table><p>"
      ],
      "text/plain": [
       "<IPython.core.display.HTML object>"
      ]
     },
     "metadata": {},
     "output_type": "display_data"
    },
    {
     "name": "stderr",
     "output_type": "stream",
     "text": [
      "\n",
      "\n",
      "Training completed. Do not forget to share your model on huggingface.co/models =)\n",
      "\n",
      "\n",
      "***** Running training *****\n",
      "  Num examples = 64\n",
      "  Num Epochs = 3\n",
      "  Instantaneous batch size per device = 8\n",
      "  Total train batch size (w. parallel, distributed & accumulation) = 8\n",
      "  Gradient Accumulation steps = 1\n",
      "  Total optimization steps = 24\n",
      "  Number of trainable parameters = 65783042\n"
     ]
    },
    {
     "data": {
      "text/html": [
       "\n",
       "    <div>\n",
       "      \n",
       "      <progress value='24' max='24' style='width:300px; height:20px; vertical-align: middle;'></progress>\n",
       "      [24/24 02:11, Epoch 3/3]\n",
       "    </div>\n",
       "    <table border=\"1\" class=\"dataframe\">\n",
       "  <thead>\n",
       " <tr style=\"text-align: left;\">\n",
       "      <th>Step</th>\n",
       "      <th>Training Loss</th>\n",
       "      <th>Validation Loss</th>\n",
       "    </tr>\n",
       "  </thead>\n",
       "  <tbody>\n",
       "  </tbody>\n",
       "</table><p>"
      ],
      "text/plain": [
       "<IPython.core.display.HTML object>"
      ]
     },
     "metadata": {},
     "output_type": "display_data"
    },
    {
     "name": "stderr",
     "output_type": "stream",
     "text": [
      "\n",
      "\n",
      "Training completed. Do not forget to share your model on huggingface.co/models =)\n",
      "\n",
      "\n",
      "***** Running training *****\n",
      "  Num examples = 64\n",
      "  Num Epochs = 3\n",
      "  Instantaneous batch size per device = 8\n",
      "  Total train batch size (w. parallel, distributed & accumulation) = 8\n",
      "  Gradient Accumulation steps = 1\n",
      "  Total optimization steps = 24\n",
      "  Number of trainable parameters = 65783042\n"
     ]
    },
    {
     "data": {
      "text/html": [
       "\n",
       "    <div>\n",
       "      \n",
       "      <progress value='24' max='24' style='width:300px; height:20px; vertical-align: middle;'></progress>\n",
       "      [24/24 02:01, Epoch 3/3]\n",
       "    </div>\n",
       "    <table border=\"1\" class=\"dataframe\">\n",
       "  <thead>\n",
       " <tr style=\"text-align: left;\">\n",
       "      <th>Step</th>\n",
       "      <th>Training Loss</th>\n",
       "      <th>Validation Loss</th>\n",
       "    </tr>\n",
       "  </thead>\n",
       "  <tbody>\n",
       "  </tbody>\n",
       "</table><p>"
      ],
      "text/plain": [
       "<IPython.core.display.HTML object>"
      ]
     },
     "metadata": {},
     "output_type": "display_data"
    },
    {
     "name": "stderr",
     "output_type": "stream",
     "text": [
      "\n",
      "\n",
      "Training completed. Do not forget to share your model on huggingface.co/models =)\n",
      "\n",
      "\n"
     ]
    }
   ],
   "source": [
    "# Use k-fold cross validation to mitigate overfitting\n",
    "num_folds = 5\n",
    "kf = StratifiedKFold(n_splits=num_folds, shuffle=True, random_state=42)\n",
    "\n",
    "for fold, (train_index, eval_index) in enumerate(kf.split(train_dataset.labels, train_dataset.labels)):\n",
    "    # Split the dataset into training and evaluation sets\n",
    "    train_subset = torch.utils.data.Subset(train_dataset, train_index)\n",
    "    eval_subset = torch.utils.data.Subset(train_dataset, eval_index)\n",
    "\n",
    "    # Create Trainer and train the model\n",
    "    trainer = Trainer(\n",
    "        model=model,\n",
    "        args=training_args,\n",
    "        train_dataset=train_subset,\n",
    "        eval_dataset=eval_subset,\n",
    "        compute_metrics=compute_metrics\n",
    "    )\n",
    "\n",
    "    trainer.train()"
   ]
  },
  {
   "cell_type": "code",
   "execution_count": 527,
   "metadata": {
    "jupyter": {
     "source_hidden": true
    },
    "tags": []
   },
   "outputs": [
    {
     "name": "stderr",
     "output_type": "stream",
     "text": [
      "Saving model checkpoint to distilbert_chatgpt_poems\n",
      "Configuration saved in distilbert_chatgpt_poems/config.json\n",
      "Model weights saved in distilbert_chatgpt_poems/pytorch_model.bin\n"
     ]
    }
   ],
   "source": [
    "trainer.save_model('distilbert_chatgpt_poems')"
   ]
  },
  {
   "cell_type": "markdown",
   "metadata": {},
   "source": [
    "#### Evaluate Poem Classification"
   ]
  },
  {
   "cell_type": "code",
   "execution_count": 528,
   "metadata": {
    "jupyter": {
     "source_hidden": true
    },
    "tags": []
   },
   "outputs": [
    {
     "name": "stderr",
     "output_type": "stream",
     "text": [
      "***** Running Evaluation *****\n",
      "  Num examples = 16\n",
      "  Batch size = 20\n"
     ]
    },
    {
     "data": {
      "text/html": [],
      "text/plain": [
       "<IPython.core.display.HTML object>"
      ]
     },
     "metadata": {},
     "output_type": "display_data"
    },
    {
     "data": {
      "text/plain": [
       "{'eval_loss': 4.41818383478676e-06,\n",
       " 'eval_f1': 1.0,\n",
       " 'eval_runtime': 2.1396,\n",
       " 'eval_samples_per_second': 7.478,\n",
       " 'eval_steps_per_second': 0.467,\n",
       " 'epoch': 3.0}"
      ]
     },
     "execution_count": 528,
     "metadata": {},
     "output_type": "execute_result"
    }
   ],
   "source": [
    "trainer.evaluate()"
   ]
  },
  {
   "cell_type": "code",
   "execution_count": 529,
   "metadata": {
    "collapsed": true,
    "jupyter": {
     "outputs_hidden": true,
     "source_hidden": true
    },
    "tags": []
   },
   "outputs": [
    {
     "name": "stderr",
     "output_type": "stream",
     "text": [
      "***** Running Prediction *****\n",
      "  Num examples = 20\n",
      "  Batch size = 20\n"
     ]
    }
   ],
   "source": [
    "predicted_results = trainer.predict(test_dataset)"
   ]
  },
  {
   "cell_type": "code",
   "execution_count": 530,
   "metadata": {
    "jupyter": {
     "source_hidden": true
    },
    "tags": []
   },
   "outputs": [],
   "source": [
    "predicted_labels = predicted_results.predictions.argmax(-1) # Get the highest probability prediction\n",
    "predicted_labels = predicted_labels.flatten().tolist()      # Flatten the predictions into a 1D list\n",
    "predicted_labels = [id2label[l] for l in predicted_labels]"
   ]
  },
  {
   "cell_type": "code",
   "execution_count": 531,
   "metadata": {
    "jupyter": {
     "source_hidden": true
    },
    "tags": []
   },
   "outputs": [
    {
     "name": "stdout",
     "output_type": "stream",
     "text": [
      "              precision    recall  f1-score   support\n",
      "\n",
      "       False       1.00      1.00      1.00         8\n",
      "        True       1.00      1.00      1.00        12\n",
      "\n",
      "    accuracy                           1.00        20\n",
      "   macro avg       1.00      1.00      1.00        20\n",
      "weighted avg       1.00      1.00      1.00        20\n",
      "\n"
     ]
    }
   ],
   "source": [
    "print(classification_report(test_labels, predicted_labels))"
   ]
  },
  {
   "cell_type": "markdown",
   "metadata": {},
   "source": [
    "In the end, the DistilBERT poem classification model performed with 100% accuracy, correctly classfying human-authored (False) and ChatGPT-authored (True) poems. Note, that many different training parameters were tested, all yielding the same accuracy, hinting at the sharp distinctions within the dataset itself."
   ]
  },
  {
   "cell_type": "markdown",
   "metadata": {},
   "source": [
    "## Discussion"
   ]
  },
  {
   "cell_type": "markdown",
   "metadata": {},
   "source": [
    "In this project, I performed data analysis and built a poem classification model to identify the differences between 50 poems sourced from the Poetry Foundation and 50 poems generated by ChatGPT (produced on December 6, 2023). All poems had a similar number of significant tokens (i.e. no stopwords or punctuation). My hypothesis was that there would not be notable difference between the datasets. \n",
    "\n",
    "First, I did a poetry analysis in which I examined theme, diction, rhyme, and agency in the poetry datasets. For each poetic device, there were significant differences between the ChatGPT and Poetry Foundation poems:\n",
    "- ChatGPT poems had a collective theme while PF did not\n",
    "- There was no overlap in frequent diction\n",
    "- 94% of ChatGPT poems contained at least 6 rhyming couplets compared to only 2% of PF poems\n",
    "- ChatGPT seldom used words of agency in its poetry, but when it did most were collective pronouns. Contrastly, PF Poems all used agency pronouns in its poetry; the word 'I', for example, was used 286 times in the dataset.\n",
    "\n",
    "Through this comparison I already disproved my hypothesis. \n",
    "\n",
    "Next, I trained a DistilBERT classification model to label a given poem True or False if authored by ChatGPT. After testing, the model reported a 100% accuracy score. This signifies that there a distinct features that separate a ChatGPT-authored poem from a human-authored-poem, once again disproving my initial hypothesis.\n",
    "\n",
    "In future work, I would revise my approve by:\n",
    "- Reprompt ChatGPT to generate poetry with more diverse diction, themes, styles, and lengths. For example, ```Write n poems in various styles and themes```. Though, in using the simple prompt -- ```Write a poem.``` -- to create my dataset, I was able to see the model's default poetic style.\n",
    "- Increase the size of the datasets\n",
    "- Use and analyze different forms of classification (e.g. logistic regression)\n",
    "- Further understanding of theme using sentiment analysis\n",
    "- Examine meter and syllable use in the poetry. Meter is the basic rhythmic structure of a verse or lines in verse. It is often identified through counts of stressed and unstressed syllables. The code hidden below are some custom functions that I might use."
   ]
  },
  {
   "cell_type": "code",
   "execution_count": null,
   "metadata": {
    "jupyter": {
     "source_hidden": true
    },
    "tags": []
   },
   "outputs": [],
   "source": [
    "# Return the number of syllables in a line and number syllables per word\n",
    "def num_syllables(line):\n",
    "    syllable_count = 0\n",
    "    syll_per = ''\n",
    "    vowels = 'aeiouy'\n",
    "    words = line.split(' ')\n",
    "    for word in words:\n",
    "        per = 0\n",
    "        if word[0] in vowels:\n",
    "            per += 1\n",
    "            syllable_count += 1\n",
    "        for index in range(1, len(word)):\n",
    "            if word[index] in vowels and word[index - 1] not in vowels:\n",
    "                per += 1\n",
    "                syllable_count += 1\n",
    "        if word.endswith('e'):\n",
    "            per -= 1\n",
    "            syllable_count -= 1\n",
    "        if word.endswith('le') and len(word) > 2 and word[-3] not in vowels:\n",
    "            per += 1\n",
    "            syllable_count += 1\n",
    "        if syllable_count == 0:\n",
    "            per += 1\n",
    "            syllable_count += 1\n",
    "        syll_per+=str(per)\n",
    "    return syllable_count, syll_per\n",
    "# Divide poem into list of n lines\n",
    "def _split(poemLines, n):\n",
    "    split = [poemLines[i * n:(i + 1) * n] for i in range((len(poemLines) + n - 1) // n )]\n",
    "    return split\n",
    "# Number of syllables per n lines\n",
    "def meter(poem, i=1):\n",
    "    lines = poem.split(\"\\n\")\n",
    "    lines=[j for i,j in enumerate(lines) if j!=''] \n",
    "    syllables = lines.copy()\n",
    "    for n in range(len(lines)):\n",
    "        line = lines[n]\n",
    "        count = num_syllables(line)\n",
    "        syllables[n] = count\n",
    "    return _split(syllables, i)\n",
    "# Return type of poem based on the syllable count and/or rhyme\n",
    "def poem_type(poem):\n",
    "    meters = meter(poem)\n",
    "    if meters[0][0] == meters[length(meters)-1][0]:\n",
    "        return 'cinquain'\n",
    "    else: return 'unknown'"
   ]
  },
  {
   "cell_type": "markdown",
   "metadata": {},
   "source": [
    "## Conclusion"
   ]
  },
  {
   "cell_type": "markdown",
   "metadata": {},
   "source": [
    "As the popularity and capabilities of large language models like ChatGPT continue to grow, we must also consider their relationship with the works that they have trained on. Specifically, is work produced by generative-AI able to contribute to the very traditions it is trained on and prompt to replicate? What happens to literature when the authorship function and creative processed is reproduced and manufactured? As such, the fate of literature in the age of mechanical reproduction remains uncertain. In this project, I examined the poetic tradition and ChatGPT. The results showed that generative AI has yet to seamlessly enter the poetry canon. Rather, it embodies distinct characteristics that could be evident of a distinct poetic style. Even though large language models are constantly evolving, Walter Benjamin would say that, like photography and its relationship to painting, the mechanical reproduction of an art form diminishes the historical value and novelty (or aura) of the art form before eventually asserting itself as a new art [2]. As society moves forward, it will be interesting to see what becomes of both generative-AI literature and the literary canon in this new age of mechanical reproduction."
   ]
  },
  {
   "cell_type": "markdown",
   "metadata": {},
   "source": [
    "## References\n",
    "1. Poetry Foundation Poems. https://www.kaggle.com/datasets/tgdivy/poetry-foundation-poems\n",
    "2. Benjamin, Walter. “The Work of Art in the Age of Mechanical Reproduction.”"
   ]
  }
 ],
 "metadata": {
  "kernelspec": {
   "display_name": "Python 3",
   "language": "python",
   "name": "python3"
  },
  "language_info": {
   "codemirror_mode": {
    "name": "ipython",
    "version": 3
   },
   "file_extension": ".py",
   "mimetype": "text/x-python",
   "name": "python",
   "nbconvert_exporter": "python",
   "pygments_lexer": "ipython3",
   "version": "3.8.5"
  }
 },
 "nbformat": 4,
 "nbformat_minor": 4
}
